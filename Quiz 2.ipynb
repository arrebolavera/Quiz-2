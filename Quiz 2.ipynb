{
 "cells": [
  {
   "cell_type": "markdown",
   "id": "36755d25",
   "metadata": {},
   "source": [
    "Question 1"
   ]
  },
  {
   "cell_type": "code",
   "execution_count": 2,
   "id": "1e1abd21",
   "metadata": {
    "scrolled": false
   },
   "outputs": [
    {
     "name": "stdout",
     "output_type": "stream",
     "text": [
      "   TOTAL VALUE    TAX  LOT SQFT   YR BUILT  GROSS AREA   LIVING AREA  FLOORS   \\\n",
      "0         344.2  4330       9965      1880         2436         1352      2.0   \n",
      "1         412.6  5190       6590      1945         3108         1976      2.0   \n",
      "2         330.1  4152       7500      1890         2294         1371      2.0   \n",
      "3         498.6  6272      13773      1957         5032         2608      1.0   \n",
      "4         331.5  4170       5000      1910         2370         1438      2.0   \n",
      "\n",
      "   ROOMS  BEDROOMS   FULL BATH  HALF BATH  KITCHEN  FIREPLACE REMODEL  \n",
      "0      6          3          1          1        1          0    None  \n",
      "1     10          4          2          1        1          0  Recent  \n",
      "2      8          4          1          1        1          0    None  \n",
      "3      9          5          1          1        1          1    None  \n",
      "4      7          3          2          0        1          0    None  \n"
     ]
    }
   ],
   "source": [
    "import pandas as pd\n",
    "\n",
    "data = pd.read_excel('WestRoxbury.xlsx')\n"
   ]
  },
  {
   "cell_type": "markdown",
   "id": "eef7dc28",
   "metadata": {},
   "source": [
    "Question 2"
   ]
  },
  {
   "cell_type": "code",
   "execution_count": 3,
   "id": "7f655815",
   "metadata": {},
   "outputs": [
    {
     "data": {
      "text/plain": [
       "['TOTAL VALUE ',\n",
       " 'TAX',\n",
       " 'LOT SQFT ',\n",
       " 'YR BUILT',\n",
       " 'GROSS AREA ',\n",
       " 'LIVING AREA',\n",
       " 'FLOORS ',\n",
       " 'ROOMS',\n",
       " 'BEDROOMS ',\n",
       " 'FULL BATH',\n",
       " 'HALF BATH',\n",
       " 'KITCHEN',\n",
       " 'FIREPLACE',\n",
       " 'REMODEL']"
      ]
     },
     "execution_count": 3,
     "metadata": {},
     "output_type": "execute_result"
    }
   ],
   "source": [
    "data.columns.tolist()"
   ]
  },
  {
   "cell_type": "markdown",
   "id": "9dc16773",
   "metadata": {},
   "source": [
    "Question 3"
   ]
  },
  {
   "cell_type": "code",
   "execution_count": 5,
   "id": "82864503",
   "metadata": {},
   "outputs": [
    {
     "data": {
      "text/plain": [
       "TOTAL VALUE     float64\n",
       "TAX               int64\n",
       "LOT SQFT          int64\n",
       "YR BUILT          int64\n",
       "GROSS AREA        int64\n",
       "LIVING AREA       int64\n",
       "FLOORS          float64\n",
       "ROOMS             int64\n",
       "BEDROOMS          int64\n",
       "FULL BATH         int64\n",
       "HALF BATH         int64\n",
       "KITCHEN           int64\n",
       "FIREPLACE         int64\n",
       "REMODEL          object\n",
       "dtype: object"
      ]
     },
     "execution_count": 5,
     "metadata": {},
     "output_type": "execute_result"
    }
   ],
   "source": [
    "data.dtypes"
   ]
  },
  {
   "cell_type": "markdown",
   "id": "43273866",
   "metadata": {},
   "source": [
    "Question 4"
   ]
  },
  {
   "cell_type": "code",
   "execution_count": 6,
   "id": "d255ee8c",
   "metadata": {},
   "outputs": [
    {
     "name": "stdout",
     "output_type": "stream",
     "text": [
      "Number of rows: 5802\n",
      "Number of columns: 14\n"
     ]
    }
   ],
   "source": [
    "dimensions = data.shape\n",
    "\n",
    "# Display the dimensions\n",
    "print(\"Number of rows:\", dimensions[0])\n",
    "print(\"Number of columns:\", dimensions[1])"
   ]
  },
  {
   "cell_type": "markdown",
   "id": "2c1fd247",
   "metadata": {},
   "source": [
    "Question 5"
   ]
  },
  {
   "cell_type": "code",
   "execution_count": 10,
   "id": "b6bbbd9f",
   "metadata": {},
   "outputs": [
    {
     "name": "stdout",
     "output_type": "stream",
     "text": [
      "Mean of TOTAL VALUE column: 392.9841462908525\n",
      "Median of TOTAL VALUE column: 376.1\n"
     ]
    }
   ],
   "source": [
    "first_column = data.iloc[:, 0]  \n",
    "column_mean = first_column.mean()\n",
    "column_median = first_column.median()\n",
    "\n",
    "# Display the mean and median of the first column\n",
    "print(\"Mean of TOTAL VALUE column:\", column_mean)\n",
    "print(\"Median of TOTAL VALUE column:\", column_median)"
   ]
  },
  {
   "cell_type": "markdown",
   "id": "e1a91c74",
   "metadata": {},
   "source": [
    "Question 6"
   ]
  },
  {
   "cell_type": "code",
   "execution_count": 21,
   "id": "4f14f27c",
   "metadata": {},
   "outputs": [
    {
     "data": {
      "text/html": [
       "<div>\n",
       "<style scoped>\n",
       "    .dataframe tbody tr th:only-of-type {\n",
       "        vertical-align: middle;\n",
       "    }\n",
       "\n",
       "    .dataframe tbody tr th {\n",
       "        vertical-align: top;\n",
       "    }\n",
       "\n",
       "    .dataframe thead th {\n",
       "        text-align: right;\n",
       "    }\n",
       "</style>\n",
       "<table border=\"1\" class=\"dataframe\">\n",
       "  <thead>\n",
       "    <tr style=\"text-align: right;\">\n",
       "      <th></th>\n",
       "      <th>TOTAL VALUE</th>\n",
       "      <th>TAX</th>\n",
       "      <th>LOT SQFT</th>\n",
       "      <th>YR BUILT</th>\n",
       "      <th>GROSS AREA</th>\n",
       "      <th>LIVING AREA</th>\n",
       "      <th>FLOORS</th>\n",
       "      <th>ROOMS</th>\n",
       "      <th>BEDROOMS</th>\n",
       "      <th>FULL BATH</th>\n",
       "      <th>HALF BATH</th>\n",
       "      <th>KITCHEN</th>\n",
       "      <th>FIREPLACE</th>\n",
       "      <th>REMODEL</th>\n",
       "    </tr>\n",
       "  </thead>\n",
       "  <tbody>\n",
       "    <tr>\n",
       "      <th>5070</th>\n",
       "      <td>306.3</td>\n",
       "      <td>3853</td>\n",
       "      <td>5300</td>\n",
       "      <td>1954</td>\n",
       "      <td>2578</td>\n",
       "      <td>1227</td>\n",
       "      <td>1.0</td>\n",
       "      <td>6</td>\n",
       "      <td>3</td>\n",
       "      <td>1</td>\n",
       "      <td>1</td>\n",
       "      <td>1</td>\n",
       "      <td>1</td>\n",
       "      <td>None</td>\n",
       "    </tr>\n",
       "    <tr>\n",
       "      <th>1103</th>\n",
       "      <td>305.2</td>\n",
       "      <td>3839</td>\n",
       "      <td>4160</td>\n",
       "      <td>1950</td>\n",
       "      <td>2912</td>\n",
       "      <td>1120</td>\n",
       "      <td>1.0</td>\n",
       "      <td>6</td>\n",
       "      <td>3</td>\n",
       "      <td>1</td>\n",
       "      <td>0</td>\n",
       "      <td>1</td>\n",
       "      <td>1</td>\n",
       "      <td>None</td>\n",
       "    </tr>\n",
       "    <tr>\n",
       "      <th>812</th>\n",
       "      <td>239.2</td>\n",
       "      <td>3009</td>\n",
       "      <td>5086</td>\n",
       "      <td>1920</td>\n",
       "      <td>1910</td>\n",
       "      <td>1070</td>\n",
       "      <td>1.5</td>\n",
       "      <td>6</td>\n",
       "      <td>2</td>\n",
       "      <td>1</td>\n",
       "      <td>0</td>\n",
       "      <td>1</td>\n",
       "      <td>0</td>\n",
       "      <td>None</td>\n",
       "    </tr>\n",
       "    <tr>\n",
       "      <th>1632</th>\n",
       "      <td>396.5</td>\n",
       "      <td>4987</td>\n",
       "      <td>7480</td>\n",
       "      <td>1950</td>\n",
       "      <td>3080</td>\n",
       "      <td>1816</td>\n",
       "      <td>2.0</td>\n",
       "      <td>7</td>\n",
       "      <td>3</td>\n",
       "      <td>1</td>\n",
       "      <td>1</td>\n",
       "      <td>1</td>\n",
       "      <td>0</td>\n",
       "      <td>None</td>\n",
       "    </tr>\n",
       "    <tr>\n",
       "      <th>1128</th>\n",
       "      <td>322.5</td>\n",
       "      <td>4057</td>\n",
       "      <td>4000</td>\n",
       "      <td>1935</td>\n",
       "      <td>3061</td>\n",
       "      <td>1566</td>\n",
       "      <td>2.0</td>\n",
       "      <td>7</td>\n",
       "      <td>3</td>\n",
       "      <td>1</td>\n",
       "      <td>0</td>\n",
       "      <td>1</td>\n",
       "      <td>1</td>\n",
       "      <td>None</td>\n",
       "    </tr>\n",
       "    <tr>\n",
       "      <th>...</th>\n",
       "      <td>...</td>\n",
       "      <td>...</td>\n",
       "      <td>...</td>\n",
       "      <td>...</td>\n",
       "      <td>...</td>\n",
       "      <td>...</td>\n",
       "      <td>...</td>\n",
       "      <td>...</td>\n",
       "      <td>...</td>\n",
       "      <td>...</td>\n",
       "      <td>...</td>\n",
       "      <td>...</td>\n",
       "      <td>...</td>\n",
       "      <td>...</td>\n",
       "    </tr>\n",
       "    <tr>\n",
       "      <th>294</th>\n",
       "      <td>313.7</td>\n",
       "      <td>3946</td>\n",
       "      <td>4288</td>\n",
       "      <td>1965</td>\n",
       "      <td>2368</td>\n",
       "      <td>1368</td>\n",
       "      <td>2.0</td>\n",
       "      <td>9</td>\n",
       "      <td>4</td>\n",
       "      <td>1</td>\n",
       "      <td>1</td>\n",
       "      <td>1</td>\n",
       "      <td>1</td>\n",
       "      <td>None</td>\n",
       "    </tr>\n",
       "    <tr>\n",
       "      <th>1547</th>\n",
       "      <td>550.5</td>\n",
       "      <td>6925</td>\n",
       "      <td>5400</td>\n",
       "      <td>1991</td>\n",
       "      <td>5032</td>\n",
       "      <td>2924</td>\n",
       "      <td>2.0</td>\n",
       "      <td>7</td>\n",
       "      <td>3</td>\n",
       "      <td>1</td>\n",
       "      <td>1</td>\n",
       "      <td>1</td>\n",
       "      <td>1</td>\n",
       "      <td>None</td>\n",
       "    </tr>\n",
       "    <tr>\n",
       "      <th>2012</th>\n",
       "      <td>459.9</td>\n",
       "      <td>5785</td>\n",
       "      <td>5750</td>\n",
       "      <td>1951</td>\n",
       "      <td>3109</td>\n",
       "      <td>1869</td>\n",
       "      <td>2.0</td>\n",
       "      <td>7</td>\n",
       "      <td>3</td>\n",
       "      <td>1</td>\n",
       "      <td>1</td>\n",
       "      <td>1</td>\n",
       "      <td>1</td>\n",
       "      <td>Recent</td>\n",
       "    </tr>\n",
       "    <tr>\n",
       "      <th>588</th>\n",
       "      <td>270.3</td>\n",
       "      <td>3400</td>\n",
       "      <td>3166</td>\n",
       "      <td>1960</td>\n",
       "      <td>2647</td>\n",
       "      <td>1128</td>\n",
       "      <td>1.0</td>\n",
       "      <td>6</td>\n",
       "      <td>3</td>\n",
       "      <td>1</td>\n",
       "      <td>0</td>\n",
       "      <td>1</td>\n",
       "      <td>1</td>\n",
       "      <td>None</td>\n",
       "    </tr>\n",
       "    <tr>\n",
       "      <th>3329</th>\n",
       "      <td>308.4</td>\n",
       "      <td>3879</td>\n",
       "      <td>6375</td>\n",
       "      <td>1920</td>\n",
       "      <td>1965</td>\n",
       "      <td>1061</td>\n",
       "      <td>1.5</td>\n",
       "      <td>6</td>\n",
       "      <td>3</td>\n",
       "      <td>1</td>\n",
       "      <td>0</td>\n",
       "      <td>1</td>\n",
       "      <td>0</td>\n",
       "      <td>None</td>\n",
       "    </tr>\n",
       "  </tbody>\n",
       "</table>\n",
       "<p>4352 rows × 14 columns</p>\n",
       "</div>"
      ],
      "text/plain": [
       "      TOTAL VALUE    TAX  LOT SQFT   YR BUILT  GROSS AREA   LIVING AREA  \\\n",
       "5070         306.3  3853       5300      1954         2578         1227   \n",
       "1103         305.2  3839       4160      1950         2912         1120   \n",
       "812          239.2  3009       5086      1920         1910         1070   \n",
       "1632         396.5  4987       7480      1950         3080         1816   \n",
       "1128         322.5  4057       4000      1935         3061         1566   \n",
       "...            ...   ...        ...       ...          ...          ...   \n",
       "294          313.7  3946       4288      1965         2368         1368   \n",
       "1547         550.5  6925       5400      1991         5032         2924   \n",
       "2012         459.9  5785       5750      1951         3109         1869   \n",
       "588          270.3  3400       3166      1960         2647         1128   \n",
       "3329         308.4  3879       6375      1920         1965         1061   \n",
       "\n",
       "      FLOORS   ROOMS  BEDROOMS   FULL BATH  HALF BATH  KITCHEN  FIREPLACE  \\\n",
       "5070      1.0      6          3          1          1        1          1   \n",
       "1103      1.0      6          3          1          0        1          1   \n",
       "812       1.5      6          2          1          0        1          0   \n",
       "1632      2.0      7          3          1          1        1          0   \n",
       "1128      2.0      7          3          1          0        1          1   \n",
       "...       ...    ...        ...        ...        ...      ...        ...   \n",
       "294       2.0      9          4          1          1        1          1   \n",
       "1547      2.0      7          3          1          1        1          1   \n",
       "2012      2.0      7          3          1          1        1          1   \n",
       "588       1.0      6          3          1          0        1          1   \n",
       "3329      1.5      6          3          1          0        1          0   \n",
       "\n",
       "     REMODEL  \n",
       "5070    None  \n",
       "1103    None  \n",
       "812     None  \n",
       "1632    None  \n",
       "1128    None  \n",
       "...      ...  \n",
       "294     None  \n",
       "1547    None  \n",
       "2012  Recent  \n",
       "588     None  \n",
       "3329    None  \n",
       "\n",
       "[4352 rows x 14 columns]"
      ]
     },
     "execution_count": 21,
     "metadata": {},
     "output_type": "execute_result"
    }
   ],
   "source": [
    "# Sample 75% of the data for preprocessing\n",
    "sam_df = data.sample(frac=0.75, random_state=42)  \n",
    "\n",
    "# Display the dimensions of the sampled DataFrame\n",
    "sam_df"
   ]
  },
  {
   "cell_type": "markdown",
   "id": "671ffe90",
   "metadata": {},
   "source": [
    "Question 7"
   ]
  },
  {
   "cell_type": "code",
   "execution_count": 15,
   "id": "9fc62446",
   "metadata": {},
   "outputs": [
    {
     "name": "stdout",
     "output_type": "stream",
     "text": [
      "Number of missing values in the TOTAL VALUE: 19\n"
     ]
    },
    {
     "data": {
      "image/png": "[encoded data removed]",
      "text/plain": [
       "<Figure size 800x600 with 1 Axes>"
      ]
     },
     "metadata": {},
     "output_type": "display_data"
    },
    {
     "name": "stdout",
     "output_type": "stream",
     "text": [
      "Number of missing values in TOTAL VALUE column after imputation: 0\n"
     ]
    }
   ],
   "source": [
    "import matplotlib.pyplot as plt\n",
    "\n",
    "# Check for missing values in the TOTAL VALUE column\n",
    "first_column_missing = data.iloc[:, 0].isnull().sum()\n",
    "\n",
    "print(\"Number of missing values in the TOTAL VALUE:\", first_column_missing)\n",
    "\n",
    "# Plot missing values in the first column\n",
    "plt.figure(figsize=(8, 6))\n",
    "plt.title('Missing Values in TOTAL VALUE Column')\n",
    "plt.xlabel('Rows')\n",
    "plt.ylabel('Missing Values')\n",
    "\n",
    "plt.plot(data.iloc[:, 0].isnull().astype(int), marker='o')\n",
    "plt.show()\n",
    "\n",
    "# Imputation to treat missing values in the first column (for example, using mean imputation)\n",
    "first_column_mean = data.iloc[:, 0].mean()\n",
    "data.iloc[:, 0].fillna(first_column_mean, inplace=True)\n",
    "\n",
    "# Check if missing values are filled after imputation\n",
    "print(\"Number of missing values in TOTAL VALUE column after imputation:\", data.iloc[:, 0].isnull().sum())\n"
   ]
  },
  {
   "cell_type": "markdown",
   "id": "acb7179f",
   "metadata": {},
   "source": [
    "Question 8"
   ]
  },
  {
   "cell_type": "code",
   "execution_count": 17,
   "id": "4e407e96",
   "metadata": {},
   "outputs": [
    {
     "data": {
      "image/png": "[encoded data removed]",
      "text/plain": [
       "<Figure size 1000x600 with 2 Axes>"
      ]
     },
     "metadata": {},
     "output_type": "display_data"
    },
    {
     "name": "stdout",
     "output_type": "stream",
     "text": [
      "Outliers in Column 1:\n",
      "1157    716.4\n",
      "1206    726.1\n",
      "1377    730.3\n",
      "1467    773.5\n",
      "2116    709.2\n",
      "        ...  \n",
      "4657    791.6\n",
      "4762    735.4\n",
      "4960    710.2\n",
      "5034    736.7\n",
      "5159    700.7\n",
      "Name: TOTAL VALUE , Length: 85, dtype: float64\n",
      "\n",
      "Outliers in Column 3:\n",
      "72      20000\n",
      "233     24677\n",
      "327     14707\n",
      "439     19466\n",
      "480     19264\n",
      "        ...  \n",
      "4567    20181\n",
      "4571    46411\n",
      "4762    20467\n",
      "5539    16533\n",
      "5621    20927\n",
      "Name: LOT SQFT , Length: 74, dtype: int64\n"
     ]
    }
   ],
   "source": [
    "# Columns of interest (1st and 3rd columns)\n",
    "column_1 = data.iloc[:, 0]\n",
    "column_3 = data.iloc[:, 2]\n",
    "\n",
    "# Create Box plots for columns 1 and 3\n",
    "plt.figure(figsize=(10, 6))\n",
    "\n",
    "# Box plot for column 1\n",
    "plt.subplot(2, 1, 1)\n",
    "plt.boxplot(column_1, vert=False)\n",
    "plt.title('Box plot for TOTAL VALUE')\n",
    "\n",
    "# Box plot for column 3\n",
    "plt.subplot(2, 1, 2)\n",
    "plt.boxplot(column_3, vert=False)\n",
    "plt.title('Box plot for LOT SQFT')\n",
    "\n",
    "plt.tight_layout()\n",
    "plt.show()\n",
    "\n",
    "# Function to calculate Z-scores\n",
    "def z_score(data):\n",
    "    mean = data.mean()\n",
    "    std_dev = data.std()\n",
    "    z_scores = (data - mean) / std_dev\n",
    "    return z_scores\n",
    "\n",
    "# Calculate Z-scores for columns 1 and 3\n",
    "column_1_z_scores = z_score(column_1)\n",
    "column_3_z_scores = z_score(column_3)\n",
    "\n",
    "# Define a threshold for outlier detection (e.g., Z-score > 3 or < -3)\n",
    "outlier_threshold = 3\n",
    "\n",
    "# Identify outliers using Z-score method for columns 1 and 3\n",
    "outliers_column_1 = column_1[(column_1_z_scores > outlier_threshold) | (column_1_z_scores < -outlier_threshold)]\n",
    "outliers_column_3 = column_3[(column_3_z_scores > outlier_threshold) | (column_3_z_scores < -outlier_threshold)]\n",
    "\n",
    "print(\"Outliers in Column 1:\")\n",
    "print(outliers_column_1)\n",
    "\n",
    "print(\"\\nOutliers in Column 3:\")\n",
    "print(outliers_column_3)\n"
   ]
  },
  {
   "cell_type": "markdown",
   "id": "2d838b6e",
   "metadata": {},
   "source": [
    "Question 9"
   ]
  },
  {
   "cell_type": "code",
   "execution_count": 18,
   "id": "b5e798f6",
   "metadata": {
    "scrolled": true
   },
   "outputs": [
    {
     "name": "stdout",
     "output_type": "stream",
     "text": [
      "Correlation Matrix:\n",
      "              TOTAL VALUE        TAX  LOT SQFT   YR BUILT  GROSS AREA   \\\n",
      "TOTAL VALUE       1.000000  0.998418   0.546360 -0.100934     0.799577   \n",
      "TAX               0.998418  1.000000   0.546120 -0.100918     0.800518   \n",
      "LOT SQFT          0.546360  0.546120   1.000000 -0.068908     0.448880   \n",
      "YR BUILT         -0.100934 -0.100918  -0.068908  1.000000    -0.167928   \n",
      "GROSS AREA        0.799577  0.800518   0.448880 -0.167928     1.000000   \n",
      "LIVING AREA       0.836500  0.837122   0.426045 -0.131274     0.899775   \n",
      "FLOORS            0.479619  0.481524   0.073662 -0.190453     0.300666   \n",
      "ROOMS             0.637858  0.638542   0.308395 -0.144686     0.651501   \n",
      "BEDROOMS          0.562195  0.561872   0.254106 -0.130411     0.571791   \n",
      "FULL BATH         0.433893  0.432806   0.201317  0.073706     0.419734   \n",
      "HALF BATH         0.346917  0.348165   0.134996  0.060685     0.226683   \n",
      "KITCHEN           0.018962  0.018261   0.044525  0.052091     0.030501   \n",
      "FIREPLACE         0.356783  0.358566   0.181879  0.087234     0.270080   \n",
      "\n",
      "              LIVING AREA   FLOORS      ROOMS  BEDROOMS   FULL BATH  \\\n",
      "TOTAL VALUE      0.836500  0.479619  0.637858   0.562195   0.433893   \n",
      "TAX              0.837122  0.481524  0.638542   0.561872   0.432806   \n",
      "LOT SQFT         0.426045  0.073662  0.308395   0.254106   0.201317   \n",
      "YR BUILT        -0.131274 -0.190453 -0.144686  -0.130411   0.073706   \n",
      "GROSS AREA       0.899775  0.300666  0.651501   0.571791   0.419734   \n",
      "LIVING AREA      1.000000  0.475824  0.720671   0.641041   0.437987   \n",
      "FLOORS           0.475824  1.000000  0.432856   0.431242   0.112166   \n",
      "ROOMS            0.720671  0.432856  1.000000   0.710693   0.378274   \n",
      "BEDROOMS         0.641041  0.431242  0.710693   1.000000   0.332620   \n",
      "FULL BATH        0.437987  0.112166  0.378274   0.332620   1.000000   \n",
      "HALF BATH        0.301098  0.316142  0.282655   0.256852  -0.130628   \n",
      "KITCHEN          0.082825 -0.114602  0.129223   0.085353   0.146650   \n",
      "FIREPLACE        0.262159  0.120506  0.205223   0.164380   0.140160   \n",
      "\n",
      "              HALF BATH   KITCHEN  FIREPLACE  \n",
      "TOTAL VALUE    0.346917  0.018962   0.356783  \n",
      "TAX            0.348165  0.018261   0.358566  \n",
      "LOT SQFT       0.134996  0.044525   0.181879  \n",
      "YR BUILT       0.060685  0.052091   0.087234  \n",
      "GROSS AREA     0.226683  0.030501   0.270080  \n",
      "LIVING AREA    0.301098  0.082825   0.262159  \n",
      "FLOORS         0.316142 -0.114602   0.120506  \n",
      "ROOMS          0.282655  0.129223   0.205223  \n",
      "BEDROOMS       0.256852  0.085353   0.164380  \n",
      "FULL BATH     -0.130628  0.146650   0.140160  \n",
      "HALF BATH      1.000000 -0.020071   0.176234  \n",
      "KITCHEN       -0.020071  1.000000  -0.009562  \n",
      "FIREPLACE      0.176234 -0.009562   1.000000  \n",
      "\n",
      "Columns with high correlation:\n",
      "              TOTAL VALUE        TAX  LOT SQFT   YR BUILT  GROSS AREA   \\\n",
      "TOTAL VALUE            NaN  0.998418        NaN       NaN     0.799577   \n",
      "TAX               0.998418       NaN        NaN       NaN     0.800518   \n",
      "LOT SQFT               NaN       NaN        NaN       NaN          NaN   \n",
      "YR BUILT               NaN       NaN        NaN       NaN          NaN   \n",
      "GROSS AREA        0.799577  0.800518        NaN       NaN          NaN   \n",
      "LIVING AREA       0.836500  0.837122        NaN       NaN     0.899775   \n",
      "FLOORS                 NaN       NaN        NaN       NaN          NaN   \n",
      "ROOMS                  NaN       NaN        NaN       NaN          NaN   \n",
      "BEDROOMS               NaN       NaN        NaN       NaN          NaN   \n",
      "FULL BATH              NaN       NaN        NaN       NaN          NaN   \n",
      "HALF BATH              NaN       NaN        NaN       NaN          NaN   \n",
      "KITCHEN                NaN       NaN        NaN       NaN          NaN   \n",
      "FIREPLACE              NaN       NaN        NaN       NaN          NaN   \n",
      "\n",
      "              LIVING AREA  FLOORS      ROOMS  BEDROOMS   FULL BATH  HALF BATH  \\\n",
      "TOTAL VALUE      0.836500      NaN       NaN        NaN        NaN        NaN   \n",
      "TAX              0.837122      NaN       NaN        NaN        NaN        NaN   \n",
      "LOT SQFT              NaN      NaN       NaN        NaN        NaN        NaN   \n",
      "YR BUILT              NaN      NaN       NaN        NaN        NaN        NaN   \n",
      "GROSS AREA       0.899775      NaN       NaN        NaN        NaN        NaN   \n",
      "LIVING AREA           NaN      NaN  0.720671        NaN        NaN        NaN   \n",
      "FLOORS                NaN      NaN       NaN        NaN        NaN        NaN   \n",
      "ROOMS            0.720671      NaN       NaN   0.710693        NaN        NaN   \n",
      "BEDROOMS              NaN      NaN  0.710693        NaN        NaN        NaN   \n",
      "FULL BATH             NaN      NaN       NaN        NaN        NaN        NaN   \n",
      "HALF BATH             NaN      NaN       NaN        NaN        NaN        NaN   \n",
      "KITCHEN               NaN      NaN       NaN        NaN        NaN        NaN   \n",
      "FIREPLACE             NaN      NaN       NaN        NaN        NaN        NaN   \n",
      "\n",
      "              KITCHEN  FIREPLACE  \n",
      "TOTAL VALUE       NaN        NaN  \n",
      "TAX               NaN        NaN  \n",
      "LOT SQFT          NaN        NaN  \n",
      "YR BUILT          NaN        NaN  \n",
      "GROSS AREA        NaN        NaN  \n",
      "LIVING AREA       NaN        NaN  \n",
      "FLOORS            NaN        NaN  \n",
      "ROOMS             NaN        NaN  \n",
      "BEDROOMS          NaN        NaN  \n",
      "FULL BATH         NaN        NaN  \n",
      "HALF BATH         NaN        NaN  \n",
      "KITCHEN           NaN        NaN  \n",
      "FIREPLACE         NaN        NaN  \n"
     ]
    },
    {
     "name": "stderr",
     "output_type": "stream",
     "text": [
      "C:\\Users\\arreb\\AppData\\Local\\Temp\\ipykernel_25692\\2355477533.py:2: FutureWarning: The default value of numeric_only in DataFrame.corr is deprecated. In a future version, it will default to False. Select only valid columns or specify the value of numeric_only to silence this warning.\n",
      "  correlation_matrix = data.corr()\n"
     ]
    }
   ],
   "source": [
    "# Calculate the correlation matrix\n",
    "correlation_matrix = data.corr()\n",
    "\n",
    "# Display the correlation matrix\n",
    "print(\"Correlation Matrix:\")\n",
    "print(correlation_matrix)\n",
    "\n",
    "# Find columns with high correlation (threshold > 0.7 or <-0.7 usually indicates strong correlation)\n",
    "highly_correlated = correlation_matrix[(correlation_matrix > 0.7) & (correlation_matrix < 1.0)]\n",
    "print(\"\\nColumns with high correlation:\")\n",
    "print(highly_correlated)"
   ]
  },
  {
   "cell_type": "markdown",
   "id": "072f0b16",
   "metadata": {},
   "source": [
    "Question 10"
   ]
  },
  {
   "cell_type": "code",
   "execution_count": 19,
   "id": "645e93fb",
   "metadata": {},
   "outputs": [
    {
     "name": "stdout",
     "output_type": "stream",
     "text": [
      "Data Types of Columns:\n",
      "TOTAL VALUE     float64\n",
      "TAX               int64\n",
      "LOT SQFT          int64\n",
      "YR BUILT          int64\n",
      "GROSS AREA        int64\n",
      "LIVING AREA       int64\n",
      "FLOORS          float64\n",
      "ROOMS             int64\n",
      "BEDROOMS          int64\n",
      "FULL BATH         int64\n",
      "HALF BATH         int64\n",
      "KITCHEN           int64\n",
      "FIREPLACE         int64\n",
      "REMODEL          object\n",
      "dtype: object\n",
      "Transformed Dataset after One-Hot Encoding:\n",
      "   TOTAL VALUE    TAX  LOT SQFT   YR BUILT  GROSS AREA   LIVING AREA  FLOORS   \\\n",
      "0         344.2  4330       9965      1880         2436         1352      2.0   \n",
      "1         412.6  5190       6590      1945         3108         1976      2.0   \n",
      "2         330.1  4152       7500      1890         2294         1371      2.0   \n",
      "3         498.6  6272      13773      1957         5032         2608      1.0   \n",
      "4         331.5  4170       5000      1910         2370         1438      2.0   \n",
      "\n",
      "   ROOMS  BEDROOMS   FULL BATH  HALF BATH  KITCHEN  FIREPLACE  REMODEL_None  \\\n",
      "0      6          3          1          1        1          0             1   \n",
      "1     10          4          2          1        1          0             0   \n",
      "2      8          4          1          1        1          0             1   \n",
      "3      9          5          1          1        1          1             1   \n",
      "4      7          3          2          0        1          0             1   \n",
      "\n",
      "   REMODEL_Old  REMODEL_Recent  \n",
      "0            0               0  \n",
      "1            0               1  \n",
      "2            0               0  \n",
      "3            0               0  \n",
      "4            0               0  \n"
     ]
    }
   ],
   "source": [
    "# Check data types of columns\n",
    "print(\"Data Types of Columns:\")\n",
    "print(data.dtypes)\n",
    "\n",
    "# Identify categorical columns\n",
    "categorical_columns = data.select_dtypes(include=['object']).columns.tolist()\n",
    "\n",
    "# Perform one-hot encoding for categorical columns\n",
    "data_encoded = pd.get_dummies(data, columns=categorical_columns)\n",
    "\n",
    "# Display the transformed dataset after one-hot encoding\n",
    "print(\"Transformed Dataset after One-Hot Encoding:\")\n",
    "print(data_encoded.head())\n"
   ]
  },
  {
   "cell_type": "markdown",
   "id": "1bf7e8fb",
   "metadata": {},
   "source": [
    "Question 11"
   ]
  },
  {
   "cell_type": "code",
   "execution_count": 24,
   "id": "e9d7b6e9",
   "metadata": {},
   "outputs": [
    {
     "name": "stdout",
     "output_type": "stream",
     "text": [
      "Normalized DataFrame (norm_df):\n",
      "   TOTAL VALUE        TAX  LOT SQFT   YR BUILT  GROSS AREA   LIVING AREA  \\\n",
      "0     -0.877065 -0.871499  -0.373017  0.442315    -0.389564    -0.791242   \n",
      "1     -0.888136 -0.882678  -0.803460  0.339640    -0.017783    -0.986374   \n",
      "2     -1.552407 -1.545457  -0.453820 -0.430425    -1.133124    -1.077558   \n",
      "3      0.030773  0.034033   0.450110  0.339640     0.169220     0.282898   \n",
      "4     -0.714016 -0.708599  -0.863873 -0.045392     0.148071    -0.173019   \n",
      "\n",
      "    FLOORS      ROOMS  BEDROOMS   FULL BATH  HALF BATH   KITCHEN  FIREPLACE  \n",
      "0 -1.533592 -0.694067  -0.274010  -0.567311   0.711241 -0.125044   0.459658  \n",
      "1 -1.533592 -0.694067  -0.274010  -0.567311  -1.161306 -0.125044   0.459658  \n",
      "2 -0.414887 -0.694067  -1.446567  -0.567311  -1.161306 -0.125044  -1.304392  \n",
      "3  0.703818  0.003688  -0.274010  -0.567311   0.711241 -0.125044  -1.304392  \n",
      "4  0.703818  0.003688  -0.274010  -0.567311  -1.161306 -0.125044   0.459658  \n"
     ]
    }
   ],
   "source": [
    "from sklearn.preprocessing import StandardScaler\n",
    "\n",
    "# Identify non-numeric columns\n",
    "non_numeric_cols = sam_df.select_dtypes(exclude=['number']).columns.tolist()\n",
    "\n",
    "# Drop non-numeric columns or handle them accordingly (convert to numeric, impute missing values, etc.)\n",
    "sam_df_numeric = sam_df.drop(columns=non_numeric_cols)\n",
    "\n",
    "# Initialize the StandardScaler\n",
    "scaler = StandardScaler()\n",
    "\n",
    "# Standardize the numeric data from samp_df_numeric\n",
    "norm_data = scaler.fit_transform(sam_df_numeric)\n",
    "\n",
    "# Create a new DataFrame 'norm_df' from the standardized data\n",
    "norm_df = pd.DataFrame(norm_data, columns=sam_df_numeric.columns)\n",
    "\n",
    "# Display the first few rows of the normalized DataFrame\n",
    "print(\"Normalized DataFrame (norm_df):\")\n",
    "print(norm_df.head())"
   ]
  },
  {
   "cell_type": "markdown",
   "id": "46f496a4",
   "metadata": {},
   "source": [
    "Question 12"
   ]
  },
  {
   "cell_type": "code",
   "execution_count": 25,
   "id": "4031c71c",
   "metadata": {},
   "outputs": [
    {
     "name": "stdout",
     "output_type": "stream",
     "text": [
      "Shapes of Training and Testing Data:\n",
      "X_train shape: (3481, 12)\n",
      "X_test shape: (871, 12)\n",
      "y_train shape: (3481,)\n",
      "y_test shape: (871,)\n"
     ]
    }
   ],
   "source": [
    "from sklearn.model_selection import train_test_split\n",
    "\n",
    "# Get all column names except the target column\n",
    "all_columns_except_target = [col for col in norm_df.columns if col != 'ROOMS']\n",
    "\n",
    "# Select all columns except the target as features (X)\n",
    "X = norm_df[all_columns_except_target]\n",
    "y = norm_df['ROOMS']  # Target variable\n",
    "\n",
    "# Split the data into training and testing sets (80% train, 20% test in this example)\n",
    "X_train, X_test, y_train, y_test = train_test_split(X, y, test_size=0.2, random_state=42)\n",
    "\n",
    "# Display the shapes of the resulting training and testing sets\n",
    "print(\"Shapes of Training and Testing Data:\")\n",
    "print(\"X_train shape:\", X_train.shape)\n",
    "print(\"X_test shape:\", X_test.shape)\n",
    "print(\"y_train shape:\", y_train.shape)\n",
    "print(\"y_test shape:\", y_test.shape)\n"
   ]
  },
  {
   "cell_type": "markdown",
   "id": "a63a78fb",
   "metadata": {},
   "source": [
    "Question 13"
   ]
  },
  {
   "cell_type": "code",
   "execution_count": 26,
   "id": "d0aed1e9",
   "metadata": {},
   "outputs": [
    {
     "name": "stdout",
     "output_type": "stream",
     "text": [
      "Evaluation Metrics:\n",
      "Mean Squared Error (MSE): 0.35542566701311246\n",
      "R-squared (R2) Score: 0.6506126045883769\n"
     ]
    }
   ],
   "source": [
    "from sklearn.linear_model import LinearRegression\n",
    "from sklearn.metrics import mean_squared_error, r2_score\n",
    "\n",
    "\n",
    "# Initialize the linear regression model\n",
    "linear_reg = LinearRegression()\n",
    "\n",
    "# Fit the model on the training data\n",
    "linear_reg.fit(X_train, y_train)\n",
    "\n",
    "# Make predictions on the testing data\n",
    "y_pred = linear_reg.predict(X_test)\n",
    "\n",
    "# Calculate evaluation metrics\n",
    "mse = mean_squared_error(y_test, y_pred)\n",
    "r2 = r2_score(y_test, y_pred)\n",
    "\n",
    "# Display evaluation metrics\n",
    "print(\"Evaluation Metrics:\")\n",
    "print(\"Mean Squared Error (MSE):\", mse)\n",
    "print(\"R-squared (R2) Score:\", r2)\n"
   ]
  }
 ],
 "metadata": {
  "kernelspec": {
   "display_name": "Python 3 (ipykernel)",
   "language": "python",
   "name": "python3"
  },
  "language_info": {
   "codemirror_mode": {
    "name": "ipython",
    "version": 3
   },
   "file_extension": ".py",
   "mimetype": "text/x-python",
   "name": "python",
   "nbconvert_exporter": "python",
   "pygments_lexer": "ipython3",
   "version": "3.11.4"
  }
 },
 "nbformat": 4,
 "nbformat_minor": 5
}
